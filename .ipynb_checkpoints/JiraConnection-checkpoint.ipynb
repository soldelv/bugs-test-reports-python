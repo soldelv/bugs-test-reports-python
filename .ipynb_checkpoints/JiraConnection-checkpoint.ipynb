{
 "cells": [
  {
   "cell_type": "code",
   "execution_count": 11,
   "id": "d21ca1e9",
   "metadata": {},
   "outputs": [],
   "source": [
    "#!pip install jira"
   ]
  },
  {
   "cell_type": "code",
   "execution_count": 13,
   "id": "e64b9d3c",
   "metadata": {},
   "outputs": [],
   "source": [
    "#!pip install gspread oauth2client pandas"
   ]
  },
  {
   "cell_type": "code",
   "execution_count": 15,
   "id": "2d077135",
   "metadata": {},
   "outputs": [],
   "source": [
    "pip install df2gspread"
   ]
  },
  {
   "cell_type": "code",
   "execution_count": 16,
   "id": "b123aa71",
   "metadata": {},
   "outputs": [],
   "source": [
    "from jira import JIRA"
   ]
  },
  {
   "cell_type": "code",
   "execution_count": 17,
   "id": "eaf3dc98",
   "metadata": {},
   "outputs": [],
   "source": [
    "import requests\n",
    "import os\n",
    "import json"
   ]
  },
  {
   "cell_type": "code",
   "execution_count": 18,
   "id": "02a6b715",
   "metadata": {},
   "outputs": [],
   "source": [
    "import gspread\n",
    "from oauth2client.service_account import ServiceAccountCredentials\n",
    "import pandas as pd\n",
    "from df2gspread import df2gspread as d2g"
   ]
  },
  {
   "cell_type": "code",
   "execution_count": 19,
   "id": "54612dea",
   "metadata": {},
   "outputs": [
    {
     "name": "stdout",
     "output_type": "stream",
     "text": [
      "/Users/mac/Desktop/Reports\n"
     ]
    }
   ],
   "source": [
    "current_directory = os.getcwd()\n",
    "print(current_directory)"
   ]
  },
  {
   "cell_type": "code",
   "execution_count": 20,
   "id": "4a333eb6",
   "metadata": {},
   "outputs": [],
   "source": [
    "# Load Google credentials\n",
    "scope = ['https://spreadsheets.google.com/feeds']\n",
    "credentials = ServiceAccountCredentials.from_json_keyfile_name('/Users/mac/Desktop/Reports/credentials.json', scope)\n",
    "gc = gspread.authorize(credentials)"
   ]
  },
  {
   "cell_type": "code",
   "execution_count": 21,
   "id": "1e3c8e6c",
   "metadata": {},
   "outputs": [],
   "source": [
    "DOC_PATH = '1S1oqNVL4RDCGMWpC4wmcX1YyTbl4EodKRLnfSX9kqvU'"
   ]
  },
  {
   "cell_type": "code",
   "execution_count": 22,
   "id": "5be23e43",
   "metadata": {},
   "outputs": [],
   "source": [
    "#Función para listar los bugs en Resuelto Desa en el backlog\n",
    "def list_qa_ready():\n",
    "    \n",
    "    qa_ready= 'QA Ready: '\n",
    "    issues_script= jira.search_issues('status IN (\"QA ready\") order by created DESC',startAt=0, maxResults=300)\n",
    "    \n",
    "    df = pd.DataFrame(columns=[qa_ready])\n",
    "    for i in issues_script:\n",
    "        df = df.append({qa_ready: str(i),\n",
    "                        \n",
    "                        }, ignore_index=True) \n",
    "    return df "
   ]
  },
  {
   "cell_type": "code",
   "execution_count": 24,
   "id": "1ac44ad2",
   "metadata": {},
   "outputs": [],
   "source": [
    "#FUNCION PARA PASAR DATAFRAME AL GDOC\n",
    "def update_spreadsheet(dataframe,document,nombre_pestaña):\n",
    "    d2g.upload(dataframe, document, nombre_pestaña, credentials=credentials, row_names=False)"
   ]
  },
  {
   "cell_type": "code",
   "execution_count": 26,
   "id": "5f87f10b",
   "metadata": {},
   "outputs": [],
   "source": [
    "# Replace these with your actual values\n",
    "JIRA_SERVER = \"https://jitips.atlassian.net\"\n",
    "API_TOKEN = \"ATATT3xFfGF0J2NRE_EFiQ0JlGM4oHyBT0j6EPjoSoixum4MjD7Dy1qHRXVMZXrFhR-ZAMGC7Ky-jUPczfMjQPxT82kGkKAHUjHHbIA-0goDjDS-fbJLEM0rWd-N9-PJDYCGg-eGw4MQ848MEqDGCMx6gAfBgDbUtE-DQqqHihh1ZJxu1g9FyUk=20035A0F\"\n",
    "EMAIL = \"sol.delvalle@jitips.com\""
   ]
  },
  {
   "cell_type": "code",
   "execution_count": 27,
   "id": "d11cb94b",
   "metadata": {},
   "outputs": [
    {
     "data": {
      "text/plain": [
       "<jira.client.JIRA at 0x11f954450>"
      ]
     },
     "execution_count": 27,
     "metadata": {},
     "output_type": "execute_result"
    }
   ],
   "source": [
    "# Create a JIRA client\n",
    "jira = JIRA(server=JIRA_SERVER, basic_auth=(EMAIL, API_TOKEN))\n",
    "jira"
   ]
  },
  {
   "cell_type": "code",
   "execution_count": 28,
   "id": "43ce3fdd",
   "metadata": {},
   "outputs": [
    {
     "name": "stdout",
     "output_type": "stream",
     "text": [
      "Issue Summary: Bug - Paypal - \"An error occured\" after tap on \"Pay your order\" \n",
      "Issue Description: *Environment:* Android\n",
      "\n",
      "*Device:* Redmi 12\n",
      "\n",
      "+*Step by step:*+\n",
      "\n",
      "# Login in Android mobile app (staging env)\n",
      "# Tap on a product\n",
      "# Tap on Add to cart \n",
      "# Go to orders tab and select Paypal as a payment method (if is not already selected)\n",
      "# Tap on “Pay your order“\n",
      "# A white screen with *_\"An error occured\"_*  error message is displayed\n",
      "\n",
      "!Screenshot_2023-08-03-16-01-23-732_com.mafao.jpg|width=16.666666666666664%!\n",
      "\n",
      "\n",
      "\n",
      "+*Evidence:*+\n",
      "\n",
      "!Screenrecorder-2023-08-03-16-01-49-869 (1).mp4|width=41.66666666666667%!\n"
     ]
    }
   ],
   "source": [
    "# Example: Retrieve issue information by issue key\n",
    "issue_key = \"MF-896\"\n",
    "issue = jira.issue(issue_key)\n",
    "print(\"Issue Summary:\", issue.fields.summary)\n",
    "print(\"Issue Description:\", issue.fields.description)\n"
   ]
  },
  {
   "cell_type": "code",
   "execution_count": 29,
   "id": "7dcab488",
   "metadata": {},
   "outputs": [],
   "source": [
    "from datetime import datetime"
   ]
  },
  {
   "cell_type": "code",
   "execution_count": 30,
   "id": "1f06f9e3",
   "metadata": {},
   "outputs": [],
   "source": [
    "from datetime import datetime, timedelta"
   ]
  },
  {
   "cell_type": "code",
   "execution_count": 31,
   "id": "4d1a29a0",
   "metadata": {},
   "outputs": [],
   "source": [
    "def date_format(input_string):\n",
    "    input_format = '%Y-%m-%dT%H:%M:%S.%f%z'\n",
    "    output_format = '%Y-%m-%d'\n",
    "\n",
    "    datetime_obj = datetime.strptime(input_string, input_format)\n",
    "\n",
    "    output_string = datetime_obj.strftime(output_format)\n",
    "\n",
    "    return output_string"
   ]
  },
  {
   "cell_type": "code",
   "execution_count": 32,
   "id": "fc10e989",
   "metadata": {},
   "outputs": [],
   "source": [
    "def get_end_date(input_date, days):\n",
    "    input_format = '%Y-%m-%d'\n",
    "    output_format = '%Y-%m-%d'\n",
    "    \n",
    "    input_datetime = datetime.strptime(input_date, input_format)\n",
    "    \n",
    "    new_datetime = input_datetime + timedelta(days=days)\n",
    "    \n",
    "    new_date = new_datetime.strftime(output_format)\n",
    "    \n",
    "    return new_date"
   ]
  },
  {
   "cell_type": "code",
   "execution_count": 33,
   "id": "180e95b4",
   "metadata": {},
   "outputs": [],
   "source": [
    "def test_plan_report(sprint_number):\n",
    "    issues = jira.search_issues(jql_str='issuetype= \"Test Plan\" and summary ~ \"Sprint '+str(sprint_number)+'\"')\n",
    "    test_plan_key = issues[0].key\n",
    "    title = 'Results of Test Plan for Sprint '+str(sprint_number)+': '+str(test_plan_key)\n",
    "    start_date = date_format(str(issues[0].fields.created)) \n",
    "    end_date = get_end_date(start_date, 13)\n",
    "    \n",
    "    bugs_created_sprint = '31'\n",
    "    bugs_solved_sprint = '24'\n",
    "    total_open_bugs = '33'\n",
    "    \n",
    "    sucess_rate = '68%'\n",
    "    \n",
    "    sucess_android = 'Android'\n",
    "    sucess_ios = 'iOS'\n",
    "    sucess_odoo = 'Odoo'\n",
    "    sucess_automation_mobile = 'Automation Mobile'\n",
    "    sucess_automation_odoo ='Automation Odoo',\n",
    "    \n",
    "    test_passed = '37'\n",
    "    test_failed = '17'\n",
    "\n",
    "    data = {\n",
    "        title: [ '', '', '', '', '', '', '', '', '', '', '', '', '', '', '', '', 'Start date: '+str(start_date), 'End date: '+str(end_date)],\n",
    "        'B': [ '', 'Bugs created during Sprint '+str(sprint_number), bugs_created_sprint, '', 'We got a '+sucess_rate+' of Success Rate', '', 'Results of test cases executed', 'Passed', 'Failed', '', 'Success Rate by Environment', 'Android', 'iOS', 'Odoo', 'Automation Mobile', 'Automation Odoo', '', ''],\n",
    "        'C': [ '', '', '', '', '', '', '', test_passed, test_failed, '', '', '57%', '55%', '16%', '92%', '72%', '', ''],\n",
    "        'D': [ '', 'Bugs solved/closed', bugs_solved_sprint, '', '', '', '', '', '', '', '', '', '', '', '', '', '', ''],\n",
    "        'E': [ '', '', '', '', '', '', '', '', '', '', '', '', '', '', '', '', '', ''],\n",
    "        'F': [ '', 'Total open bugs', total_open_bugs, '', '', '', '', '', '', '', '', '', '', '', '', '', '', ''],\n",
    "        'G': [ '', '', '', '', '', '', '', '', '', '', '', '', '', '', '', '', '', '']\n",
    "    }\n",
    "\n",
    "    df = pd.DataFrame(data=data)\n",
    "    \n",
    "    return df"
   ]
  },
  {
   "cell_type": "code",
   "execution_count": 34,
   "id": "28ba09c1",
   "metadata": {},
   "outputs": [],
   "source": [
    "data = test_plan_report(12)\n",
    "#data"
   ]
  },
  {
   "cell_type": "code",
   "execution_count": 35,
   "id": "80c84e5d",
   "metadata": {},
   "outputs": [],
   "source": [
    "update_spreadsheet(data,DOC_PATH,'test_plan')"
   ]
  },
  {
   "cell_type": "code",
   "execution_count": 36,
   "id": "d53959bf",
   "metadata": {},
   "outputs": [],
   "source": [
    "#dir(jira)"
   ]
  },
  {
   "cell_type": "code",
   "execution_count": 46,
   "id": "0b2e5e51",
   "metadata": {},
   "outputs": [
    {
     "name": "stderr",
     "output_type": "stream",
     "text": [
      "/var/folders/dw/dbdqxkcn3dggcnq0vbbhr54h0000gn/T/ipykernel_93674/1412695364.py:16: FutureWarning: The frame.append method is deprecated and will be removed from pandas in a future version. Use pandas.concat instead.\n",
      "  data.append(issue_data,ignore_index=True)\n"
     ]
    }
   ],
   "source": [
    "get_dev_done_issues()"
   ]
  },
  {
   "cell_type": "code",
   "execution_count": 47,
   "id": "14370c27",
   "metadata": {},
   "outputs": [],
   "source": [
    "issues_list= jira.search_issues('status IN (\"Dev done\") order by created DESC',startAt=0, maxResults=300)"
   ]
  },
  {
   "cell_type": "code",
   "execution_count": 48,
   "id": "3af73a7f",
   "metadata": {},
   "outputs": [
    {
     "data": {
      "text/plain": [
       "[<JIRA Issue: key='MF-988', id='11117'>,\n",
       " <JIRA Issue: key='MF-986', id='11115'>,\n",
       " <JIRA Issue: key='MF-980', id='11109'>,\n",
       " <JIRA Issue: key='MF-975', id='11104'>,\n",
       " <JIRA Issue: key='MF-971', id='11100'>,\n",
       " <JIRA Issue: key='MF-962', id='11091'>,\n",
       " <JIRA Issue: key='MF-938', id='11067'>,\n",
       " <JIRA Issue: key='MF-879', id='11007'>,\n",
       " <JIRA Issue: key='MF-872', id='11000'>,\n",
       " <JIRA Issue: key='MF-590', id='10715'>]"
      ]
     },
     "execution_count": 48,
     "metadata": {},
     "output_type": "execute_result"
    }
   ],
   "source": [
    "issues_list"
   ]
  },
  {
   "cell_type": "code",
   "execution_count": null,
   "id": "d4282e14",
   "metadata": {},
   "outputs": [],
   "source": []
  }
 ],
 "metadata": {
  "kernelspec": {
   "display_name": "Python 3 (ipykernel)",
   "language": "python",
   "name": "python3"
  },
  "language_info": {
   "codemirror_mode": {
    "name": "ipython",
    "version": 3
   },
   "file_extension": ".py",
   "mimetype": "text/x-python",
   "name": "python",
   "nbconvert_exporter": "python",
   "pygments_lexer": "ipython3",
   "version": "3.11.4"
  }
 },
 "nbformat": 4,
 "nbformat_minor": 5
}
