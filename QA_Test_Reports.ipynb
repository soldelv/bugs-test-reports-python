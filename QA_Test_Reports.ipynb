{
 "cells": [
  {
   "cell_type": "code",
   "execution_count": 2,
   "id": "d21ca1e9",
   "metadata": {},
   "outputs": [],
   "source": [
    "#!pip install jira"
   ]
  },
  {
   "cell_type": "code",
   "execution_count": 4,
   "id": "e64b9d3c",
   "metadata": {},
   "outputs": [],
   "source": [
    "#!pip install gspread oauth2client pandas"
   ]
  },
  {
   "cell_type": "code",
   "execution_count": 6,
   "id": "2d077135",
   "metadata": {},
   "outputs": [],
   "source": [
    "#!pip install df2gspread"
   ]
  },
  {
   "cell_type": "code",
   "execution_count": 8,
   "id": "4ebaf576",
   "metadata": {},
   "outputs": [],
   "source": [
    "#!pip install slack_sdk"
   ]
  },
  {
   "cell_type": "markdown",
   "id": "40084958",
   "metadata": {},
   "source": [
    "### Imports"
   ]
  },
  {
   "cell_type": "code",
   "execution_count": 1,
   "id": "b123aa71",
   "metadata": {},
   "outputs": [],
   "source": [
    "from jira import JIRA"
   ]
  },
  {
   "cell_type": "code",
   "execution_count": 2,
   "id": "eaf3dc98",
   "metadata": {},
   "outputs": [],
   "source": [
    "import requests\n",
    "import os\n",
    "import json"
   ]
  },
  {
   "cell_type": "code",
   "execution_count": 3,
   "id": "02a6b715",
   "metadata": {},
   "outputs": [],
   "source": [
    "import gspread\n",
    "from oauth2client.service_account import ServiceAccountCredentials\n",
    "import pandas as pd\n",
    "from IPython.display import HTML\n",
    "from df2gspread import df2gspread as d2g"
   ]
  },
  {
   "cell_type": "code",
   "execution_count": 4,
   "id": "4924cba3",
   "metadata": {},
   "outputs": [],
   "source": [
    "from datetime import datetime"
   ]
  },
  {
   "cell_type": "code",
   "execution_count": 5,
   "id": "dc49c307",
   "metadata": {},
   "outputs": [],
   "source": [
    "from datetime import datetime, timedelta"
   ]
  },
  {
   "cell_type": "code",
   "execution_count": 6,
   "id": "ddc609f3",
   "metadata": {},
   "outputs": [],
   "source": [
    "from slack_sdk import WebClient"
   ]
  },
  {
   "cell_type": "code",
   "execution_count": 7,
   "id": "54612dea",
   "metadata": {},
   "outputs": [
    {
     "name": "stdout",
     "output_type": "stream",
     "text": [
      "/Users/mac/Desktop/Reports\n"
     ]
    }
   ],
   "source": [
    "current_directory = os.getcwd()\n",
    "print(current_directory)"
   ]
  },
  {
   "cell_type": "code",
   "execution_count": 8,
   "id": "b563974f",
   "metadata": {},
   "outputs": [],
   "source": [
    "#pip install import_ipynb"
   ]
  },
  {
   "cell_type": "code",
   "execution_count": 13,
   "id": "fa3b0099",
   "metadata": {},
   "outputs": [],
   "source": [
    "import import_ipynb"
   ]
  },
  {
   "cell_type": "code",
   "execution_count": 14,
   "id": "d82514b0",
   "metadata": {},
   "outputs": [],
   "source": [
    "from Tokens import API_TOKEN"
   ]
  },
  {
   "cell_type": "code",
   "execution_count": 15,
   "id": "7f0b356f",
   "metadata": {},
   "outputs": [],
   "source": [
    "from Tokens import SLACK_TOKEN"
   ]
  },
  {
   "cell_type": "markdown",
   "id": "db2e29fe",
   "metadata": {},
   "source": [
    "### Google connection "
   ]
  },
  {
   "cell_type": "code",
   "execution_count": 8,
   "id": "4a333eb6",
   "metadata": {},
   "outputs": [],
   "source": [
    "# Load Google credentials\n",
    "scope = ['https://spreadsheets.google.com/feeds']\n",
    "credentials = ServiceAccountCredentials.from_json_keyfile_name('/Users/mac/Desktop/Reports/credentials.json', scope)\n",
    "gc = gspread.authorize(credentials)"
   ]
  },
  {
   "cell_type": "code",
   "execution_count": 9,
   "id": "1e3c8e6c",
   "metadata": {},
   "outputs": [],
   "source": [
    "DOC_PATH = '1S1oqNVL4RDCGMWpC4wmcX1YyTbl4EodKRLnfSX9kqvU'"
   ]
  },
  {
   "cell_type": "code",
   "execution_count": 10,
   "id": "1ac44ad2",
   "metadata": {},
   "outputs": [],
   "source": [
    "#FUNCION PARA PASAR DATAFRAME AL GDOC\n",
    "def update_spreadsheet(dataframe,document,nombre_pestaña):\n",
    "    d2g.upload(dataframe, document, nombre_pestaña, credentials=credentials, row_names=False)"
   ]
  },
  {
   "cell_type": "markdown",
   "id": "3667a0ce",
   "metadata": {},
   "source": [
    "### Jira Connection"
   ]
  },
  {
   "cell_type": "code",
   "execution_count": 17,
   "id": "5f87f10b",
   "metadata": {},
   "outputs": [],
   "source": [
    "# Replace these with your actual values\n",
    "JIRA_SERVER = \"https://jitips.atlassian.net\"\n",
    "EMAIL = \"sol.delvalle@jitips.com\""
   ]
  },
  {
   "cell_type": "code",
   "execution_count": 12,
   "id": "d11cb94b",
   "metadata": {},
   "outputs": [],
   "source": [
    "# Create a JIRA client\n",
    "jira = JIRA(server=JIRA_SERVER, basic_auth=(EMAIL, API_TOKEN))"
   ]
  },
  {
   "cell_type": "markdown",
   "id": "d6271b57",
   "metadata": {},
   "source": [
    "### Common methods"
   ]
  },
  {
   "cell_type": "code",
   "execution_count": 13,
   "id": "201e6857",
   "metadata": {},
   "outputs": [],
   "source": [
    "def get_today():\n",
    "    now = datetime.now()\n",
    "    hours = int(now.strftime(\"%H\"))\n",
    "    data = now.strftime(\"%d/%m/%Y \")+str(hours)+now.strftime(\":%M\")\n",
    "    return data"
   ]
  },
  {
   "cell_type": "code",
   "execution_count": 14,
   "id": "4d1a29a0",
   "metadata": {},
   "outputs": [],
   "source": [
    "def date_format(input_string):\n",
    "    input_format = '%Y-%m-%dT%H:%M:%S.%f%z'\n",
    "    output_format = '%Y-%m-%d'\n",
    "\n",
    "    datetime_obj = datetime.strptime(input_string, input_format)\n",
    "\n",
    "    output_string = datetime_obj.strftime(output_format)\n",
    "\n",
    "    return output_string"
   ]
  },
  {
   "cell_type": "code",
   "execution_count": 47,
   "id": "16e5e943",
   "metadata": {},
   "outputs": [],
   "source": [
    "def get_sprint_end_date(input_date):\n",
    "    date_obj = datetime.strptime(input_date, '%Y-%m-%d')\n",
    "    end_date = date_obj + timedelta(days=1)\n",
    "\n",
    "    end_date = end_date.strftime('%Y-%m-%d')\n",
    "\n",
    "    return end_date"
   ]
  },
  {
   "cell_type": "code",
   "execution_count": 16,
   "id": "2f0c047b",
   "metadata": {},
   "outputs": [],
   "source": [
    "def get_sprint(sprint_number):\n",
    "    sprint_id = sprint_number+2\n",
    "    api_url = \"https://jitips.atlassian.net/rest/agile/1.0/sprint/\"+str(sprint_id)\n",
    "    auth = (EMAIL, API_TOKEN)\n",
    "    \n",
    "    sprint_data = ''\n",
    "\n",
    "    response = requests.get(api_url, auth=auth)\n",
    "\n",
    "    if response.status_code == 200:\n",
    "        sprint_data = response.json()\n",
    "    else:\n",
    "        print(f\"Failed to retrieve data. Status code: {response.status_code}\")\n",
    "    \n",
    "    return sprint_data"
   ]
  },
  {
   "cell_type": "code",
   "execution_count": 17,
   "id": "78cad721",
   "metadata": {},
   "outputs": [],
   "source": [
    "def publish_in_slack(df_message):\n",
    "    client = WebClient(token=SLACK_TOKEN)\n",
    "    channel_id = \"#qa-results\"\n",
    "    df_string = df_message.to_string(index=False, justify=\"left\", col_space=15)\n",
    "\n",
    "    response = client.chat_postMessage(\n",
    "        channel=channel_id,\n",
    "        #text=message\n",
    "        text=f\"```\\n{df_string}\\n```\",\n",
    "    )\n",
    "\n",
    "    print(response[\"ok\"])"
   ]
  },
  {
   "cell_type": "code",
   "execution_count": 18,
   "id": "138e262f",
   "metadata": {},
   "outputs": [],
   "source": [
    "def qa_ready_keys():\n",
    "    \n",
    "    issues_list= jira.search_issues('status IN (\"QA ready\") order by created DESC',startAt=0, maxResults=300)\n",
    "    qa_ready = ''\n",
    "    \n",
    "    if(len(issues_list)>0):\n",
    "        for i in issues_list:\n",
    "            qa_ready += str(i)+' '\n",
    "    else:\n",
    "        qa_ready = 'No issues in QA Ready'\n",
    "\n",
    "    return qa_ready"
   ]
  },
  {
   "cell_type": "code",
   "execution_count": 19,
   "id": "ff4b69c0",
   "metadata": {},
   "outputs": [],
   "source": [
    "def list_qa_ready():\n",
    "    \n",
    "    qa_ready= 'QA Ready: '\n",
    "    issues_script= jira.search_issues('status IN (\"QA ready\") order by created DESC',startAt=0, maxResults=300)\n",
    "    \n",
    "    df = pd.DataFrame(columns=[qa_ready])\n",
    "    for i in issues_script:\n",
    "        df = df.append({qa_ready: str(i),\n",
    "                        \n",
    "                        }, ignore_index=True) \n",
    "    return df "
   ]
  },
  {
   "cell_type": "markdown",
   "id": "1f56cc5e",
   "metadata": {},
   "source": [
    "### Report methods"
   ]
  },
  {
   "cell_type": "code",
   "execution_count": 20,
   "id": "180e95b4",
   "metadata": {},
   "outputs": [],
   "source": [
    "def test_plan_report(sprint_number, sucess_rate,sucess_android, sucess_ios, sucess_odoo,sucess_automation_mobile,\n",
    "                      sucess_automation_odoo, test_passed, test_failed):\n",
    "    \n",
    "    sprint = get_sprint(sprint_number)\n",
    "    sprint_name = sprint.get('name')\n",
    "    \n",
    "    issues = jira.search_issues(jql_str='issuetype= \"Test Plan\" and summary ~ \"Sprint '+str(sprint_number)+'\"')\n",
    "    test_plan_key = issues[0].key\n",
    "    title = 'Results of Test Plan for '+str(sprint_name)+': '+str(test_plan_key)\n",
    "    \n",
    "    start_date = date_format(sprint.get('startDate'))\n",
    "    end_date = date_format(sprint.get('endDate'))\n",
    "    \n",
    "    bugs_created_sprint = len(jira.search_issues(jql_str='issuetype= Bug AND created >= \"'+start_date+'\" AND created <= \"'+end_date+'\"'))\n",
    "    bugs_solved_sprint = len(jira.search_issues(jql_str='issuetype in (Bug) AND status in (DONE) AND resolved >= \"'+start_date+'\" AND resolved <= \"'+end_date+'\"  order by issuetype DESC, created DESC'))\n",
    "    total_open_bugs = len(jira.search_issues(jql_str='issuetype in (Bug) AND status not in (DONE, \"QA ready\", Canceled) order by issuetype DESC, created DESC'))\n",
    "        \n",
    "    data = {\n",
    "        title: [ '', '', '', '', '', '', '', '', '', '', '', '', '', '', '', '', 'Start date: '+str(start_date), 'End date: '+str(end_date)],\n",
    "        'B': [ '', 'Bugs created during '+str(sprint_name), bugs_created_sprint, '', 'We got a '+sucess_rate+' of Success Rate', '', 'Results of test cases executed', 'Passed', 'Failed', '', 'Success Rate by Environment', 'Android', 'iOS', 'Odoo', 'Automation Mobile', 'Automation Odoo', '', ''],\n",
    "        'C': [ '', '', '', '', '', '', '', test_passed, test_failed, '', '', sucess_android, sucess_ios, sucess_odoo, sucess_automation_mobile, sucess_automation_odoo, '', ''],\n",
    "        'D': [ '', 'Bugs solved/closed', bugs_solved_sprint, '', '', '', '', '', '', '', '', '', '', '', '', '', '', ''],\n",
    "        'E': [ '', '', '', '', '', '', '', '', '', '', '', '', '', '', '', '', '', ''],\n",
    "        'F': [ '', 'Total open bugs', total_open_bugs, '', '', '', '', '', '', '', '', '', '', '', '', '', '', ''],\n",
    "        'G': [ '', '', '', '', '', '', '', '', '', '', '', '', '', '', '', '', '', '']\n",
    "    }\n",
    "\n",
    "    df = pd.DataFrame(data=data)\n",
    "    \n",
    "    return df"
   ]
  },
  {
   "cell_type": "code",
   "execution_count": 21,
   "id": "d53959bf",
   "metadata": {},
   "outputs": [],
   "source": [
    "#dir(jira)"
   ]
  },
  {
   "cell_type": "code",
   "execution_count": 22,
   "id": "35e65f35",
   "metadata": {},
   "outputs": [],
   "source": [
    "def qa_daily_report(sprint_number):\n",
    "    \n",
    "    sprint = get_sprint(sprint_number)\n",
    "    sprint_name = sprint.get('name')\n",
    "    title = 'Daily report: '+sprint_name+' - '+get_today()\n",
    "\n",
    "    start_date = date_format(sprint.get('startDate'))\n",
    "    end_date = date_format(sprint.get('endDate'))\n",
    "    \n",
    "    qa_ready = jira.search_issues(jql_str='status IN (\"QA ready\") order by created DESC')\n",
    "    dev_done = jira.search_issues(jql_str='status IN (\"Dev done\") order by created DESC')\n",
    "        \n",
    "    bugs_sprint = jira.search_issues(jql_str='issuetype= Bug AND created >= \"'+start_date+'\" AND created <= \"'+end_date+'\"')\n",
    "    bugs_solved_sprint = jira.search_issues(jql_str='issuetype in (Bug) AND status in (DONE) AND resolved >= \"'+start_date+'\" AND resolved <= \"'+end_date+'\"  order by issuetype DESC, created DESC')\n",
    "    total_bugs = jira.search_issues(jql_str='issuetype in (Bug) AND status not in (DONE, \"QA ready\", Canceled) order by issuetype DESC, created DESC')\n",
    "\n",
    "    data = {\n",
    "        title: [ '','BUGS: ','Created '+sprint_name, 'Solved/Closed', 'Total open bugs', 'Dev DONE','', 'QA READY TICKETS', qa_ready_keys(), '', 'Sprint start date: '+str(start_date), 'Sprint end date: '+str(end_date)],\n",
    "        '': [ '','',len(bugs_sprint), len(bugs_solved_sprint), len(total_bugs),len(dev_done),'',  '', '', '', '', ''],\n",
    "    }\n",
    "\n",
    "    df = pd.DataFrame(data=data)\n",
    "    \n",
    "    # SLACK\n",
    "    data_slack = {\n",
    "        title: [ '','BUGS: ','Created '+sprint_name+': '+str(len(bugs_sprint)), 'Solved/Closed: '+str(len(bugs_solved_sprint)), 'Total open bugs: '+str(len(total_bugs)), 'Dev DONE: '+str(len(dev_done)),'', 'QA READY TICKETS', qa_ready_keys(), '', 'Sprint start date: '+str(start_date), 'Sprint end date: '+str(end_date)],\n",
    "    }\n",
    "\n",
    "    df_slack = pd.DataFrame(data=data_slack)\n",
    "    \n",
    "    \n",
    "    return df, df_slack"
   ]
  },
  {
   "cell_type": "code",
   "execution_count": 23,
   "id": "d8564e64",
   "metadata": {},
   "outputs": [],
   "source": [
    "#data = qa_daily_report(13)"
   ]
  },
  {
   "cell_type": "code",
   "execution_count": 24,
   "id": "347f544e",
   "metadata": {},
   "outputs": [],
   "source": [
    "#data[0]"
   ]
  },
  {
   "cell_type": "code",
   "execution_count": 25,
   "id": "b69e3793",
   "metadata": {},
   "outputs": [],
   "source": [
    "#data[1]"
   ]
  },
  {
   "cell_type": "code",
   "execution_count": 26,
   "id": "1defaf2a",
   "metadata": {},
   "outputs": [],
   "source": [
    "def get_all_bugs():\n",
    "    \n",
    "    summary = 'Summary - Last update: '+get_today()\n",
    "    \n",
    "    issues_list= jira.search_issues('issuetype = Bug AND status not in (DONE, \"QA ready\", Canceled) order by issuetype DESC, created DESC')\n",
    "    \n",
    "    df = pd.DataFrame(columns=['Key',summary,'Assignee','Reporter','Status','Updated'])\n",
    "    \n",
    "    if(len(issues_list)>0):\n",
    "        for i in issues_list:\n",
    "            assignee = i.fields.assignee\n",
    "            if(i.fields.assignee==None):\n",
    "                assignee = 'Unassigned'\n",
    "                \n",
    "            \n",
    "            df2 = pd.DataFrame([[ str(i), \n",
    "                                 str(i.fields.summary),\n",
    "                                 str(assignee),\n",
    "                                 str(i.fields.reporter.displayName),\n",
    "                                 str(i.fields.status.name),\n",
    "                                 date_format(str(i.fields.updated))]],\n",
    "                           columns=['Key',summary,'Assignee','Reporter','Status','Updated'])\n",
    "        \n",
    "            df = pd.concat([df, df2], ignore_index=True)\n",
    "    \n",
    "    return df"
   ]
  },
  {
   "cell_type": "code",
   "execution_count": 27,
   "id": "a6ad5cac",
   "metadata": {},
   "outputs": [],
   "source": [
    "#get_all_bugs()"
   ]
  },
  {
   "cell_type": "code",
   "execution_count": 28,
   "id": "be0bd705",
   "metadata": {},
   "outputs": [],
   "source": [
    "def get_dev_done_issues():\n",
    "    summary = 'Summary - Last update: '+get_today()\n",
    "    \n",
    "    issues_list= jira.search_issues('status IN (\"Dev done\") order by created DESC',startAt=0, maxResults=300)\n",
    "    \n",
    "    df = pd.DataFrame(columns=['Key','Type',summary,'Assignee','Updated' ])\n",
    "    \n",
    "    if(len(issues_list)>0):\n",
    "        for i in issues_list:\n",
    "            df2 = pd.DataFrame([[i, str(i.fields.issuetype.name),\n",
    "                                 str(i.fields.summary),\n",
    "                                 str(i.fields.assignee.displayName),\n",
    "                                date_format(str(i.fields.updated))]],\n",
    "                           columns=['Key','Type',summary,'Assignee','Updated'])\n",
    "            df = pd.concat([df, df2], ignore_index=True)\n",
    "    \n",
    "    return df"
   ]
  },
  {
   "cell_type": "code",
   "execution_count": 29,
   "id": "8c2b823c",
   "metadata": {},
   "outputs": [],
   "source": [
    "def get_qa_ready_issues():\n",
    "    summary = 'Summary - Last update: '+get_today()\n",
    "    \n",
    "    issues_list= jira.search_issues('status IN (\"QA ready\") order by created DESC',startAt=0, maxResults=300)\n",
    "    \n",
    "    df = pd.DataFrame(columns=['Key','Type',summary,'Assignee','Updated' ])\n",
    "    \n",
    "    if(len(issues_list)>0):\n",
    "        for i in issues_list:\n",
    "            df2 = pd.DataFrame([[i, str(i.fields.issuetype.name),\n",
    "                                 str(i.fields.summary),\n",
    "                                 str(i.fields.assignee.displayName),\n",
    "                                date_format(str(i.fields.updated))]],\n",
    "                           columns=['Key','Type',summary,'Assignee','Updated'])\n",
    "            df = pd.concat([df, df2], ignore_index=True)\n",
    "\n",
    "    return df"
   ]
  },
  {
   "cell_type": "code",
   "execution_count": 42,
   "id": "67f045fc",
   "metadata": {},
   "outputs": [],
   "source": [
    "def detail_active_bugs():\n",
    "        \n",
    "    bugs_backend = jira.search_issues(jql_str='issuetype = Bug AND status not in (DONE, Canceled) AND labels=bug-backend order by issuetype DESC, created DESC')\n",
    "    bugs_mobile = jira.search_issues(jql_str='issuetype = Bug AND status not in (DONE, Canceled) AND labels=Mobile order by issuetype DESC, created DESC')\n",
    "    bugs_odoo = jira.search_issues(jql_str='issuetype = Bug AND status not in (DONE, Canceled) AND labels=Website order by issuetype DESC, created DESC')\n",
    "    bugs_devops = jira.search_issues(jql_str='issuetype = Bug AND status not in (DONE, Canceled) AND labels=bug-devops order by issuetype DESC, created DESC')\n",
    "\n",
    "    data_slack = {\n",
    "        'ACTIVE BUGS DETAIL: ': ['Backend : '+str(len(bugs_backend)), 'Mobile : '+str(len(bugs_mobile)), 'Odoo : '+str(len(bugs_odoo)), 'Devops : '+str(len(bugs_devops))],\n",
    "    }\n",
    "\n",
    "    df_slack = pd.DataFrame(data=data_slack)\n",
    "    \n",
    "    \n",
    "    return df_slack"
   ]
  },
  {
   "cell_type": "code",
   "execution_count": 31,
   "id": "4d4c6da6",
   "metadata": {},
   "outputs": [],
   "source": [
    "def update_daily_report(sprint):\n",
    "    data = qa_daily_report(sprint)\n",
    "    spreadsheet = data[0]\n",
    "    publish_in_slack(data[1])\n",
    "    update_spreadsheet(spreadsheet,DOC_PATH,'DAILY_REPORT')"
   ]
  },
  {
   "cell_type": "code",
   "execution_count": 65,
   "id": "83c951ea",
   "metadata": {},
   "outputs": [],
   "source": [
    "def dev_team_reports(sprint_number):\n",
    "    \n",
    "    sprint = get_sprint(sprint_number)\n",
    "    sprint_name = sprint.get('name')\n",
    "    title = 'Bugs Summary by team: '+sprint_name+' (Date: '+get_today()+')'\n",
    "\n",
    "    start_date = date_format(sprint.get('startDate'))\n",
    "    end_date = get_sprint_end_date(date_format(sprint.get('endDate')))\n",
    "    \n",
    "    # Mobile\n",
    "    mob_reported_sprint = jira.search_issues(jql_str='issuetype= Bug AND created >= \"'+start_date+'\" AND created <= \"'+end_date+'\" AND labels=Mobile')\n",
    "    mob_done_sprint = jira.search_issues(jql_str='issuetype= Bug AND status in (DONE, \"QA ready\") AND labels=Mobile AND created >= \"'+start_date+'\" AND created <= \"'+end_date+'\"')\n",
    "    mob_carry_old_sprint = jira.search_issues(jql_str='issuetype = Bug AND status not in (DONE, \"QA ready\", Canceled) AND created < \"'+start_date+'\" AND labels=Mobile order by issuetype DESC, created DESC')\n",
    "    mob_done_old_sprint = jira.search_issues(jql_str='issuetype in (Bug) AND status in (DONE, \"QA ready\") AND created < \"'+start_date+'\" AND resolved >= \"'+start_date+'\" AND resolved <= \"'+end_date+'\" AND labels=Mobile order by issuetype DESC, created DESC')\n",
    "    \n",
    "    # Odoo\n",
    "    odoo_reported_sprint = jira.search_issues(jql_str='issuetype= Bug AND created >= \"'+start_date+'\" AND created <= \"'+end_date+'\" AND labels in (Odoo, Website)')\n",
    "    odoo_done_sprint = jira.search_issues(jql_str='issuetype= Bug AND status in (DONE, \"QA ready\") AND labels in (Odoo, Website) AND created >= \"'+start_date+'\" AND created <= \"'+end_date+'\"')\n",
    "    odoo_carry_old_sprint = jira.search_issues(jql_str='issuetype = Bug AND status not in (DONE, \"QA ready\", Canceled) AND created < \"'+start_date+'\" AND labels in (Odoo, Website) order by issuetype DESC, created DESC')\n",
    "    odoo_done_old_sprint = jira.search_issues(jql_str='issuetype in (Bug) AND status in (DONE, \"QA ready\") AND created < \"'+start_date+'\" AND resolved >= \"'+start_date+'\" AND resolved <= \"'+end_date+'\" AND labels in (Odoo, Website) order by issuetype DESC, created DESC')\n",
    "    \n",
    "    # Backend\n",
    "    be_reported_sprint = jira.search_issues(jql_str='issuetype= Bug AND created >= \"'+start_date+'\" AND created <= \"'+end_date+'\" AND labels=bug-backend')\n",
    "    be_done_sprint = jira.search_issues(jql_str='issuetype= Bug AND status in (DONE, \"QA ready\") AND labels=bug-backend AND created >= \"'+start_date+'\" AND created <= \"'+end_date+'\"')\n",
    "    be_carry_old_sprint = jira.search_issues(jql_str='issuetype = Bug AND status not in (DONE, \"QA ready\", Canceled) AND created < \"'+start_date+'\" AND labels=bug-backend order by issuetype DESC, created DESC')\n",
    "    be_done_old_sprint = jira.search_issues(jql_str='issuetype in (Bug) AND status in (DONE, \"QA ready\") AND created < \"'+start_date+'\" AND resolved >= \"'+start_date+'\" AND resolved <= \"'+end_date+'\" AND labels=bug-backend order by issuetype DESC, created DESC')\n",
    "    \n",
    "    # Devops\n",
    "    dops_reported_sprint = jira.search_issues(jql_str='issuetype= Bug AND created >= \"'+start_date+'\" AND created <= \"'+end_date+'\" AND labels=bug-devops')\n",
    "    dops_done_sprint = jira.search_issues(jql_str='issuetype= Bug AND status in (DONE, \"QA ready\") AND labels=bug-devops AND created >= \"'+start_date+'\" AND created <= \"'+end_date+'\"')\n",
    "    dops_carry_old_sprint = jira.search_issues(jql_str='issuetype = Bug AND status not in (DONE, \"QA ready\", Canceled) AND created < \"'+start_date+'\" AND labels=bug-devops order by issuetype DESC, created DESC')\n",
    "    dops_done_old_sprint = jira.search_issues(jql_str='issuetype in (Bug) AND status in (DONE, \"QA ready\") AND created < \"'+start_date+'\" AND resolved >= \"'+start_date+'\" AND resolved <= \"'+end_date+'\" AND labels=bug-devops order by issuetype DESC, created DESC')\n",
    "        \n",
    "    data = {\n",
    "        title: [ '','','', '', '', '','', '', '', '', '', '',  '', '', '', '', ''],\n",
    "        'B': [ '','Dev Team','Mobile', 'Odoo', 'Backend ','Devops','',  '', '', '', '', '',  '', '', '', '', ''],\n",
    "        'C': [ '','Reported '+sprint_name,len(mob_reported_sprint), len(odoo_reported_sprint),len(be_reported_sprint),len(dops_reported_sprint), '', '', '', '', '',  '', '', '', '', '', ''],\n",
    "        'D': [ '','Resolved '+sprint_name,len(mob_done_sprint), len(odoo_done_sprint), len(be_done_sprint),len(dops_done_sprint), '', '', '', '', '',  '', '', '', '', '', ''],\n",
    "        'E': [ '','Active from previous Sprints',len(mob_carry_old_sprint), len(odoo_carry_old_sprint), len(be_carry_old_sprint),len(dops_carry_old_sprint), '', '', '', '', '',  '', '', '', '', '', '* Bugs active on '+sprint_name+' reported on previous Sprint vs resolved'],\n",
    "        'F': [ '','Resolved of previous Sprints',len(mob_done_old_sprint), len(odoo_done_old_sprint), len(be_done_old_sprint),len(dops_done_old_sprint), '', '', '', '', '',  '', '', '', '', '', ''],\n",
    "        'G': [ '','','', '', '','','',  '', '', '', '', '',  '', '', '', '', '']\n",
    "    }\n",
    "\n",
    "    df = pd.DataFrame(data=data)\n",
    "\n",
    "    return df"
   ]
  },
  {
   "cell_type": "code",
   "execution_count": 66,
   "id": "eea4b6bf",
   "metadata": {},
   "outputs": [],
   "source": [
    "dev_teams =dev_team_reports(13)"
   ]
  },
  {
   "cell_type": "code",
   "execution_count": 67,
   "id": "45c88a9d",
   "metadata": {},
   "outputs": [
    {
     "data": {
      "text/html": [
       "<div>\n",
       "<style scoped>\n",
       "    .dataframe tbody tr th:only-of-type {\n",
       "        vertical-align: middle;\n",
       "    }\n",
       "\n",
       "    .dataframe tbody tr th {\n",
       "        vertical-align: top;\n",
       "    }\n",
       "\n",
       "    .dataframe thead th {\n",
       "        text-align: right;\n",
       "    }\n",
       "</style>\n",
       "<table border=\"1\" class=\"dataframe\">\n",
       "  <thead>\n",
       "    <tr style=\"text-align: right;\">\n",
       "      <th></th>\n",
       "      <th>Bugs Summary by team: Sprint 13 (Date: 04/09/2023 15:02)</th>\n",
       "      <th>B</th>\n",
       "      <th>C</th>\n",
       "      <th>D</th>\n",
       "      <th>E</th>\n",
       "      <th>F</th>\n",
       "      <th>G</th>\n",
       "    </tr>\n",
       "  </thead>\n",
       "  <tbody>\n",
       "    <tr>\n",
       "      <th>0</th>\n",
       "      <td></td>\n",
       "      <td></td>\n",
       "      <td></td>\n",
       "      <td></td>\n",
       "      <td></td>\n",
       "      <td></td>\n",
       "      <td></td>\n",
       "    </tr>\n",
       "    <tr>\n",
       "      <th>1</th>\n",
       "      <td></td>\n",
       "      <td>Dev Team</td>\n",
       "      <td>Reported Sprint 13</td>\n",
       "      <td>Resolved Sprint 13</td>\n",
       "      <td>Active from previous Sprints</td>\n",
       "      <td>Resolved of previous Sprints</td>\n",
       "      <td></td>\n",
       "    </tr>\n",
       "    <tr>\n",
       "      <th>2</th>\n",
       "      <td></td>\n",
       "      <td>Mobile</td>\n",
       "      <td>8</td>\n",
       "      <td>6</td>\n",
       "      <td>3</td>\n",
       "      <td>20</td>\n",
       "      <td></td>\n",
       "    </tr>\n",
       "    <tr>\n",
       "      <th>3</th>\n",
       "      <td></td>\n",
       "      <td>Odoo</td>\n",
       "      <td>5</td>\n",
       "      <td>5</td>\n",
       "      <td>0</td>\n",
       "      <td>3</td>\n",
       "      <td></td>\n",
       "    </tr>\n",
       "    <tr>\n",
       "      <th>4</th>\n",
       "      <td></td>\n",
       "      <td>Backend</td>\n",
       "      <td>6</td>\n",
       "      <td>4</td>\n",
       "      <td>2</td>\n",
       "      <td>1</td>\n",
       "      <td></td>\n",
       "    </tr>\n",
       "    <tr>\n",
       "      <th>5</th>\n",
       "      <td></td>\n",
       "      <td>Devops</td>\n",
       "      <td>3</td>\n",
       "      <td>2</td>\n",
       "      <td>6</td>\n",
       "      <td>0</td>\n",
       "      <td></td>\n",
       "    </tr>\n",
       "    <tr>\n",
       "      <th>6</th>\n",
       "      <td></td>\n",
       "      <td></td>\n",
       "      <td></td>\n",
       "      <td></td>\n",
       "      <td></td>\n",
       "      <td></td>\n",
       "      <td></td>\n",
       "    </tr>\n",
       "    <tr>\n",
       "      <th>7</th>\n",
       "      <td></td>\n",
       "      <td></td>\n",
       "      <td></td>\n",
       "      <td></td>\n",
       "      <td></td>\n",
       "      <td></td>\n",
       "      <td></td>\n",
       "    </tr>\n",
       "    <tr>\n",
       "      <th>8</th>\n",
       "      <td></td>\n",
       "      <td></td>\n",
       "      <td></td>\n",
       "      <td></td>\n",
       "      <td></td>\n",
       "      <td></td>\n",
       "      <td></td>\n",
       "    </tr>\n",
       "    <tr>\n",
       "      <th>9</th>\n",
       "      <td></td>\n",
       "      <td></td>\n",
       "      <td></td>\n",
       "      <td></td>\n",
       "      <td></td>\n",
       "      <td></td>\n",
       "      <td></td>\n",
       "    </tr>\n",
       "    <tr>\n",
       "      <th>10</th>\n",
       "      <td></td>\n",
       "      <td></td>\n",
       "      <td></td>\n",
       "      <td></td>\n",
       "      <td></td>\n",
       "      <td></td>\n",
       "      <td></td>\n",
       "    </tr>\n",
       "    <tr>\n",
       "      <th>11</th>\n",
       "      <td></td>\n",
       "      <td></td>\n",
       "      <td></td>\n",
       "      <td></td>\n",
       "      <td></td>\n",
       "      <td></td>\n",
       "      <td></td>\n",
       "    </tr>\n",
       "    <tr>\n",
       "      <th>12</th>\n",
       "      <td></td>\n",
       "      <td></td>\n",
       "      <td></td>\n",
       "      <td></td>\n",
       "      <td></td>\n",
       "      <td></td>\n",
       "      <td></td>\n",
       "    </tr>\n",
       "    <tr>\n",
       "      <th>13</th>\n",
       "      <td></td>\n",
       "      <td></td>\n",
       "      <td></td>\n",
       "      <td></td>\n",
       "      <td></td>\n",
       "      <td></td>\n",
       "      <td></td>\n",
       "    </tr>\n",
       "    <tr>\n",
       "      <th>14</th>\n",
       "      <td></td>\n",
       "      <td></td>\n",
       "      <td></td>\n",
       "      <td></td>\n",
       "      <td></td>\n",
       "      <td></td>\n",
       "      <td></td>\n",
       "    </tr>\n",
       "    <tr>\n",
       "      <th>15</th>\n",
       "      <td></td>\n",
       "      <td></td>\n",
       "      <td></td>\n",
       "      <td></td>\n",
       "      <td></td>\n",
       "      <td></td>\n",
       "      <td></td>\n",
       "    </tr>\n",
       "    <tr>\n",
       "      <th>16</th>\n",
       "      <td></td>\n",
       "      <td></td>\n",
       "      <td></td>\n",
       "      <td></td>\n",
       "      <td>* Bugs active on Sprint 13 reported on previou...</td>\n",
       "      <td></td>\n",
       "      <td></td>\n",
       "    </tr>\n",
       "  </tbody>\n",
       "</table>\n",
       "</div>"
      ],
      "text/plain": [
       "   Bugs Summary by team: Sprint 13 (Date: 04/09/2023 15:02)         B  \\\n",
       "0                                                                       \n",
       "1                                                            Dev Team   \n",
       "2                                                              Mobile   \n",
       "3                                                                Odoo   \n",
       "4                                                            Backend    \n",
       "5                                                              Devops   \n",
       "6                                                                       \n",
       "7                                                                       \n",
       "8                                                                       \n",
       "9                                                                       \n",
       "10                                                                      \n",
       "11                                                                      \n",
       "12                                                                      \n",
       "13                                                                      \n",
       "14                                                                      \n",
       "15                                                                      \n",
       "16                                                                      \n",
       "\n",
       "                     C                   D  \\\n",
       "0                                            \n",
       "1   Reported Sprint 13  Resolved Sprint 13   \n",
       "2                    8                   6   \n",
       "3                    5                   5   \n",
       "4                    6                   4   \n",
       "5                    3                   2   \n",
       "6                                            \n",
       "7                                            \n",
       "8                                            \n",
       "9                                            \n",
       "10                                           \n",
       "11                                           \n",
       "12                                           \n",
       "13                                           \n",
       "14                                           \n",
       "15                                           \n",
       "16                                           \n",
       "\n",
       "                                                    E  \\\n",
       "0                                                       \n",
       "1                        Active from previous Sprints   \n",
       "2                                                   3   \n",
       "3                                                   0   \n",
       "4                                                   2   \n",
       "5                                                   6   \n",
       "6                                                       \n",
       "7                                                       \n",
       "8                                                       \n",
       "9                                                       \n",
       "10                                                      \n",
       "11                                                      \n",
       "12                                                      \n",
       "13                                                      \n",
       "14                                                      \n",
       "15                                                      \n",
       "16  * Bugs active on Sprint 13 reported on previou...   \n",
       "\n",
       "                               F G  \n",
       "0                                   \n",
       "1   Resolved of previous Sprints    \n",
       "2                             20    \n",
       "3                              3    \n",
       "4                              1    \n",
       "5                              0    \n",
       "6                                   \n",
       "7                                   \n",
       "8                                   \n",
       "9                                   \n",
       "10                                  \n",
       "11                                  \n",
       "12                                  \n",
       "13                                  \n",
       "14                                  \n",
       "15                                  \n",
       "16                                  "
      ]
     },
     "execution_count": 67,
     "metadata": {},
     "output_type": "execute_result"
    }
   ],
   "source": [
    "dev_teams"
   ]
  },
  {
   "cell_type": "code",
   "execution_count": 68,
   "id": "71adab32",
   "metadata": {},
   "outputs": [],
   "source": [
    "update_spreadsheet(dev_teams,DOC_PATH,'DEV_TEAMS')"
   ]
  },
  {
   "cell_type": "markdown",
   "id": "9c04509d",
   "metadata": {},
   "source": [
    "### Update reports"
   ]
  },
  {
   "cell_type": "code",
   "execution_count": 32,
   "id": "49b5c7e7",
   "metadata": {},
   "outputs": [],
   "source": [
    "data = qa_daily_report(13)\n",
    "spreadsheet = data[0]\n",
    "#publish_in_slack(data[1])\n",
    "update_spreadsheet(spreadsheet,DOC_PATH,'DAILY_REPORT')"
   ]
  },
  {
   "cell_type": "code",
   "execution_count": 33,
   "id": "ab2048f9",
   "metadata": {},
   "outputs": [
    {
     "name": "stdout",
     "output_type": "stream",
     "text": [
      "True\n"
     ]
    }
   ],
   "source": [
    "publish_in_slack(data[1])"
   ]
  },
  {
   "cell_type": "code",
   "execution_count": 41,
   "id": "74e7df47",
   "metadata": {},
   "outputs": [
    {
     "name": "stdout",
     "output_type": "stream",
     "text": [
      "True\n"
     ]
    }
   ],
   "source": [
    "publish_in_slack(detail_active_bugs())"
   ]
  },
  {
   "cell_type": "code",
   "execution_count": 35,
   "id": "408d0285",
   "metadata": {},
   "outputs": [],
   "source": [
    "#update_daily_report(13)"
   ]
  },
  {
   "cell_type": "code",
   "execution_count": 36,
   "id": "b95b78af",
   "metadata": {},
   "outputs": [],
   "source": [
    "update_spreadsheet(get_dev_done_issues(),DOC_PATH,'DEV_DONE') "
   ]
  },
  {
   "cell_type": "code",
   "execution_count": 37,
   "id": "2919343c",
   "metadata": {},
   "outputs": [],
   "source": [
    "update_spreadsheet(get_qa_ready_issues(),DOC_PATH,'QA_READY') "
   ]
  },
  {
   "cell_type": "code",
   "execution_count": 38,
   "id": "1836d531",
   "metadata": {},
   "outputs": [],
   "source": [
    "update_spreadsheet(get_all_bugs(),DOC_PATH,'ALL_BUGS') "
   ]
  },
  {
   "cell_type": "markdown",
   "id": "11c97d94",
   "metadata": {},
   "source": [
    " "
   ]
  },
  {
   "cell_type": "markdown",
   "id": "a4476248",
   "metadata": {},
   "source": [
    " "
   ]
  },
  {
   "cell_type": "markdown",
   "id": "809b8443",
   "metadata": {},
   "source": [
    " "
   ]
  },
  {
   "cell_type": "markdown",
   "id": "d78d816e",
   "metadata": {},
   "source": [
    " "
   ]
  },
  {
   "cell_type": "markdown",
   "id": "6ab7f150",
   "metadata": {},
   "source": [
    "### Test Plan Report"
   ]
  },
  {
   "cell_type": "code",
   "execution_count": 67,
   "id": "4e9cdf54",
   "metadata": {},
   "outputs": [],
   "source": [
    "sprint_number = 12\n",
    "sucess_rate = '68%'\n",
    "    \n",
    "sucess_android = '57%'\n",
    "sucess_ios = '55%'\n",
    "sucess_odoo = '16%'\n",
    "sucess_automation_mobile = '92%'\n",
    "sucess_automation_odoo ='72%'\n",
    "    \n",
    "test_passed = '37'\n",
    "test_failed = '17'"
   ]
  },
  {
   "cell_type": "code",
   "execution_count": null,
   "id": "71424508",
   "metadata": {},
   "outputs": [],
   "source": [
    "test_plan_df = test_plan_report(sprint_number, sucess_rate,sucess_android, sucess_ios, sucess_odoo,sucess_automation_mobile,\n",
    "                      sucess_automation_odoo, test_passed, test_failed)"
   ]
  },
  {
   "cell_type": "code",
   "execution_count": null,
   "id": "95754131",
   "metadata": {},
   "outputs": [],
   "source": [
    "update_spreadsheet(test_plan_df,DOC_PATH,'TEST_PLAN')"
   ]
  },
  {
   "cell_type": "markdown",
   "id": "86646008",
   "metadata": {},
   "source": [
    " "
   ]
  },
  {
   "cell_type": "markdown",
   "id": "8f06f9ec",
   "metadata": {},
   "source": [
    " "
   ]
  },
  {
   "cell_type": "markdown",
   "id": "44b5f613",
   "metadata": {},
   "source": [
    " "
   ]
  },
  {
   "cell_type": "markdown",
   "id": "0d68689a",
   "metadata": {},
   "source": [
    " "
   ]
  },
  {
   "cell_type": "markdown",
   "id": "f8a47c40",
   "metadata": {},
   "source": [
    "# Code to improve"
   ]
  },
  {
   "cell_type": "code",
   "execution_count": null,
   "id": "b2131cfb",
   "metadata": {},
   "outputs": [],
   "source": []
  },
  {
   "cell_type": "code",
   "execution_count": null,
   "id": "466a0398",
   "metadata": {},
   "outputs": [],
   "source": []
  },
  {
   "cell_type": "code",
   "execution_count": null,
   "id": "26e439d9",
   "metadata": {},
   "outputs": [],
   "source": []
  },
  {
   "cell_type": "code",
   "execution_count": null,
   "id": "60703df4",
   "metadata": {},
   "outputs": [],
   "source": []
  },
  {
   "cell_type": "code",
   "execution_count": null,
   "id": "0e8dce62",
   "metadata": {},
   "outputs": [],
   "source": []
  },
  {
   "cell_type": "code",
   "execution_count": null,
   "id": "6005bf25",
   "metadata": {},
   "outputs": [],
   "source": []
  },
  {
   "cell_type": "code",
   "execution_count": 89,
   "id": "bab23c16",
   "metadata": {},
   "outputs": [
    {
     "data": {
      "text/html": [
       "<div>\n",
       "<style scoped>\n",
       "    .dataframe tbody tr th:only-of-type {\n",
       "        vertical-align: middle;\n",
       "    }\n",
       "\n",
       "    .dataframe tbody tr th {\n",
       "        vertical-align: top;\n",
       "    }\n",
       "\n",
       "    .dataframe thead th {\n",
       "        text-align: right;\n",
       "    }\n",
       "</style>\n",
       "<table border=\"1\" class=\"dataframe\">\n",
       "  <thead>\n",
       "    <tr style=\"text-align: right;\">\n",
       "      <th></th>\n",
       "      <th>name</th>\n",
       "      <th>url</th>\n",
       "      <th>url2</th>\n",
       "    </tr>\n",
       "  </thead>\n",
       "  <tbody>\n",
       "    <tr>\n",
       "      <th>0</th>\n",
       "      <td>Softhints</td>\n",
       "      <td>https://www.softhints.com</td>\n",
       "      <td>https://www.blog.softhints.com/tag/pandas</td>\n",
       "    </tr>\n",
       "    <tr>\n",
       "      <th>1</th>\n",
       "      <td>DataScientyst</td>\n",
       "      <td>https://datascientyst.com</td>\n",
       "      <td>https://datascientyst.com/tag/pandas</td>\n",
       "    </tr>\n",
       "  </tbody>\n",
       "</table>\n",
       "</div>"
      ],
      "text/plain": [
       "            name                        url  \\\n",
       "0      Softhints  https://www.softhints.com   \n",
       "1  DataScientyst  https://datascientyst.com   \n",
       "\n",
       "                                        url2  \n",
       "0  https://www.blog.softhints.com/tag/pandas  \n",
       "1       https://datascientyst.com/tag/pandas  "
      ]
     },
     "execution_count": 89,
     "metadata": {},
     "output_type": "execute_result"
    }
   ],
   "source": [
    "from IPython.display import HTML\n",
    "import pandas as pd\n",
    "\n",
    "df = pd.DataFrame({\n",
    "    'name':['Softhints', 'DataScientyst'],\n",
    "    'url':['https://www.softhints.com', 'https://datascientyst.com'],\n",
    "    'url2':['https://www.blog.softhints.com/tag/pandas', 'https://datascientyst.com/tag/pandas']\n",
    "})\n",
    "\n",
    "df"
   ]
  },
  {
   "cell_type": "code",
   "execution_count": 90,
   "id": "c52c7652",
   "metadata": {},
   "outputs": [],
   "source": [
    "def make_clickable(val):\n",
    "    return '<a href=\"{}\">{}</a>'.format(val, val)"
   ]
  },
  {
   "cell_type": "code",
   "execution_count": 91,
   "id": "f6dcf260",
   "metadata": {},
   "outputs": [
    {
     "name": "stderr",
     "output_type": "stream",
     "text": [
      "/tmp/ipykernel_11698/3094310033.py:3: FutureWarning: this method is deprecated in favour of `Styler.to_html()`\n",
      "  .render()\n"
     ]
    },
    {
     "data": {
      "text/html": [
       "<style type=\"text/css\">\n",
       "</style>\n",
       "<table id=\"T_9f88b\">\n",
       "  <thead>\n",
       "    <tr>\n",
       "      <th class=\"blank level0\" >&nbsp;</th>\n",
       "      <th id=\"T_9f88b_level0_col0\" class=\"col_heading level0 col0\" >name</th>\n",
       "      <th id=\"T_9f88b_level0_col1\" class=\"col_heading level0 col1\" >url</th>\n",
       "      <th id=\"T_9f88b_level0_col2\" class=\"col_heading level0 col2\" >url2</th>\n",
       "    </tr>\n",
       "  </thead>\n",
       "  <tbody>\n",
       "    <tr>\n",
       "      <th id=\"T_9f88b_level0_row0\" class=\"row_heading level0 row0\" >0</th>\n",
       "      <td id=\"T_9f88b_row0_col0\" class=\"data row0 col0\" >Softhints</td>\n",
       "      <td id=\"T_9f88b_row0_col1\" class=\"data row0 col1\" ><a href=\"https://www.softhints.com\">https://www.softhints.com</a></td>\n",
       "      <td id=\"T_9f88b_row0_col2\" class=\"data row0 col2\" >https://www.blog.softhints.com/tag/pandas</td>\n",
       "    </tr>\n",
       "    <tr>\n",
       "      <th id=\"T_9f88b_level0_row1\" class=\"row_heading level0 row1\" >1</th>\n",
       "      <td id=\"T_9f88b_row1_col0\" class=\"data row1 col0\" >DataScientyst</td>\n",
       "      <td id=\"T_9f88b_row1_col1\" class=\"data row1 col1\" ><a href=\"https://datascientyst.com\">https://datascientyst.com</a></td>\n",
       "      <td id=\"T_9f88b_row1_col2\" class=\"data row1 col2\" >https://datascientyst.com/tag/pandas</td>\n",
       "    </tr>\n",
       "  </tbody>\n",
       "</table>\n"
      ],
      "text/plain": [
       "<IPython.core.display.HTML object>"
      ]
     },
     "execution_count": 91,
     "metadata": {},
     "output_type": "execute_result"
    }
   ],
   "source": [
    "styled_table = (df.style\n",
    "                .format({'url': make_clickable})\n",
    "                .render()\n",
    "               )\n",
    "HTML(styled_table)"
   ]
  },
  {
   "cell_type": "code",
   "execution_count": null,
   "id": "75500166",
   "metadata": {},
   "outputs": [],
   "source": [
    "from IPython.display import HTML\n",
    "\n",
    "df = pd.DataFrame({'name':['Pandas', 'Linux']})\n",
    "\n",
    "df['name'] = df['name'].apply(lambda x: f'<a href=\"http://softhints.com/tutorial/{x}\">{x}</a>')\n",
    "HTML(df.to_html(escape=False))"
   ]
  },
  {
   "cell_type": "code",
   "execution_count": null,
   "id": "d4803d6a",
   "metadata": {},
   "outputs": [],
   "source": []
  }
 ],
 "metadata": {
  "kernelspec": {
   "display_name": "Python 3 (ipykernel)",
   "language": "python",
   "name": "python3"
  },
  "language_info": {
   "codemirror_mode": {
    "name": "ipython",
    "version": 3
   },
   "file_extension": ".py",
   "mimetype": "text/x-python",
   "name": "python",
   "nbconvert_exporter": "python",
   "pygments_lexer": "ipython3",
   "version": "3.11.4"
  }
 },
 "nbformat": 4,
 "nbformat_minor": 5
}
