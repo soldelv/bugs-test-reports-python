{
 "cells": [
  {
   "cell_type": "markdown",
   "id": "40084958",
   "metadata": {},
   "source": [
    "### Imports"
   ]
  },
  {
   "cell_type": "code",
   "execution_count": 12,
   "id": "f033b57a",
   "metadata": {},
   "outputs": [],
   "source": [
    "#pip install import_ipynb"
   ]
  },
  {
   "cell_type": "code",
   "execution_count": 13,
   "id": "d1940801",
   "metadata": {},
   "outputs": [],
   "source": [
    "import import_ipynb"
   ]
  },
  {
   "cell_type": "code",
   "execution_count": 14,
   "id": "13314450",
   "metadata": {},
   "outputs": [],
   "source": [
    "from Utils_reports import *"
   ]
  },
  {
   "cell_type": "markdown",
   "id": "9c04509d",
   "metadata": {},
   "source": [
    "# Update daily reports"
   ]
  },
  {
   "cell_type": "code",
   "execution_count": 15,
   "id": "193beb5e",
   "metadata": {},
   "outputs": [],
   "source": [
    "# UPDATE HERE THE NUMBER OF THE CURRENT SPRINT\n",
    "sprint_number = 14"
   ]
  },
  {
   "cell_type": "code",
   "execution_count": 16,
   "id": "49b5c7e7",
   "metadata": {},
   "outputs": [],
   "source": [
    "data = qa_daily_report(sprint_number)\n",
    "spreadsheet = data[0]"
   ]
  },
  {
   "cell_type": "code",
   "execution_count": 17,
   "id": "ab2048f9",
   "metadata": {},
   "outputs": [
    {
     "name": "stdout",
     "output_type": "stream",
     "text": [
      "True\n"
     ]
    }
   ],
   "source": [
    "publish_in_slack(data[1])"
   ]
  },
  {
   "cell_type": "code",
   "execution_count": 18,
   "id": "74e7df47",
   "metadata": {},
   "outputs": [
    {
     "name": "stdout",
     "output_type": "stream",
     "text": [
      "True\n"
     ]
    }
   ],
   "source": [
    "publish_in_slack(detail_active_bugs())"
   ]
  },
  {
   "cell_type": "code",
   "execution_count": 19,
   "id": "59fcd8db",
   "metadata": {},
   "outputs": [],
   "source": [
    "update_spreadsheet(spreadsheet,DOC_PATH,'DAILY_REPORT')"
   ]
  },
  {
   "cell_type": "code",
   "execution_count": 20,
   "id": "b95b78af",
   "metadata": {},
   "outputs": [],
   "source": [
    "update_spreadsheet(get_dev_done_issues(),DOC_PATH,'DEV_DONE') "
   ]
  },
  {
   "cell_type": "code",
   "execution_count": 21,
   "id": "2919343c",
   "metadata": {},
   "outputs": [],
   "source": [
    "update_spreadsheet(get_qa_ready_issues(),DOC_PATH,'QA_READY') "
   ]
  },
  {
   "cell_type": "code",
   "execution_count": 22,
   "id": "1836d531",
   "metadata": {},
   "outputs": [],
   "source": [
    "update_spreadsheet(get_all_bugs(),DOC_PATH,'ALL_BUGS') "
   ]
  },
  {
   "cell_type": "markdown",
   "id": "11c97d94",
   "metadata": {},
   "source": [
    " "
   ]
  },
  {
   "cell_type": "markdown",
   "id": "a4476248",
   "metadata": {},
   "source": [
    " "
   ]
  },
  {
   "cell_type": "markdown",
   "id": "809b8443",
   "metadata": {},
   "source": [
    " "
   ]
  },
  {
   "cell_type": "markdown",
   "id": "86646008",
   "metadata": {},
   "source": [
    " "
   ]
  },
  {
   "cell_type": "markdown",
   "id": "8f06f9ec",
   "metadata": {},
   "source": [
    " "
   ]
  },
  {
   "cell_type": "markdown",
   "id": "44b5f613",
   "metadata": {},
   "source": [
    " "
   ]
  },
  {
   "cell_type": "markdown",
   "id": "0d68689a",
   "metadata": {},
   "source": [
    " "
   ]
  }
 ],
 "metadata": {
  "kernelspec": {
   "display_name": "Python 3 (ipykernel)",
   "language": "python",
   "name": "python3"
  },
  "language_info": {
   "codemirror_mode": {
    "name": "ipython",
    "version": 3
   },
   "file_extension": ".py",
   "mimetype": "text/x-python",
   "name": "python",
   "nbconvert_exporter": "python",
   "pygments_lexer": "ipython3",
   "version": "3.11.4"
  }
 },
 "nbformat": 4,
 "nbformat_minor": 5
}
