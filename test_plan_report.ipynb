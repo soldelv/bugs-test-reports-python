{
 "cells": [
  {
   "cell_type": "markdown",
   "id": "40084958",
   "metadata": {},
   "source": [
    "### Imports"
   ]
  },
  {
   "cell_type": "code",
   "execution_count": 4,
   "id": "f033b57a",
   "metadata": {},
   "outputs": [],
   "source": [
    "#pip install import_ipynb"
   ]
  },
  {
   "cell_type": "code",
   "execution_count": 1,
   "id": "d1940801",
   "metadata": {},
   "outputs": [],
   "source": [
    "import import_ipynb"
   ]
  },
  {
   "cell_type": "code",
   "execution_count": 2,
   "id": "13314450",
   "metadata": {},
   "outputs": [
    {
     "name": "stdout",
     "output_type": "stream",
     "text": [
      "importing Jupyter notebook from Utils_reports.ipynb\n",
      "/Users/mac/Desktop/Reports\n",
      "importing Jupyter notebook from Tokens.ipynb\n"
     ]
    },
    {
     "name": "stderr",
     "output_type": "stream",
     "text": [
      "<string>:3: FutureWarning: this method is deprecated in favour of `Styler.to_html()`\n"
     ]
    }
   ],
   "source": [
    "from Utils_reports import *"
   ]
  },
  {
   "cell_type": "markdown",
   "id": "6ab7f150",
   "metadata": {},
   "source": [
    "# Test Plan Report"
   ]
  },
  {
   "cell_type": "code",
   "execution_count": 52,
   "id": "4e9cdf54",
   "metadata": {},
   "outputs": [],
   "source": [
    "sprint_number = 13\n",
    "sucess_rate = '83%'\n",
    "    \n",
    "sucess_ios = '69%'\n",
    "sucess_android = '66%'\n",
    "sucess_odoo = '19%'\n",
    "sucess_automation_mobile = '98%'\n",
    "sucess_automation_odoo ='65%'\n",
    "    \n",
    "test_passed = '47'\n",
    "test_failed = '9'"
   ]
  },
  {
   "cell_type": "code",
   "execution_count": 53,
   "id": "71424508",
   "metadata": {},
   "outputs": [],
   "source": [
    "test_plan_df = test_plan_report(sprint_number, sucess_rate,sucess_android, sucess_ios, sucess_odoo,sucess_automation_mobile,\n",
    "                      sucess_automation_odoo, test_passed, test_failed)"
   ]
  },
  {
   "cell_type": "code",
   "execution_count": 54,
   "id": "95754131",
   "metadata": {},
   "outputs": [],
   "source": [
    "update_spreadsheet(test_plan_df,DOC_PATH,'TEST_PLAN')"
   ]
  },
  {
   "cell_type": "code",
   "execution_count": null,
   "id": "33566254",
   "metadata": {},
   "outputs": [],
   "source": [
    "update_spreadsheet(bugs_created_by_epic(sprint_number),DOC_PATH,'EPICS')"
   ]
  },
  {
   "cell_type": "code",
   "execution_count": null,
   "id": "9068b574",
   "metadata": {},
   "outputs": [],
   "source": [
    "update_spreadsheet(dev_team_reports(sprint_number),DOC_PATH,'DEV_TEAMS')"
   ]
  },
  {
   "cell_type": "markdown",
   "id": "86646008",
   "metadata": {},
   "source": [
    " "
   ]
  },
  {
   "cell_type": "markdown",
   "id": "8f06f9ec",
   "metadata": {},
   "source": [
    " "
   ]
  },
  {
   "cell_type": "markdown",
   "id": "44b5f613",
   "metadata": {},
   "source": [
    " "
   ]
  },
  {
   "cell_type": "markdown",
   "id": "0d68689a",
   "metadata": {},
   "source": [
    " "
   ]
  }
 ],
 "metadata": {
  "kernelspec": {
   "display_name": "Python 3 (ipykernel)",
   "language": "python",
   "name": "python3"
  },
  "language_info": {
   "codemirror_mode": {
    "name": "ipython",
    "version": 3
   },
   "file_extension": ".py",
   "mimetype": "text/x-python",
   "name": "python",
   "nbconvert_exporter": "python",
   "pygments_lexer": "ipython3",
   "version": "3.11.4"
  }
 },
 "nbformat": 4,
 "nbformat_minor": 5
}
